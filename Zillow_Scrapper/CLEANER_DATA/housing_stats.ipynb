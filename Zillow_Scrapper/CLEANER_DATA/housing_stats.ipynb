{
 "cells": [
  {
   "cell_type": "markdown",
   "metadata": {},
   "source": [
    "# Housing Data Statistics\n",
    "\n",
    "- Using data_finbar.csv which is from data.csv but I've deleted unnecessary rows and columns.\n",
    "\n"
   ]
  },
  {
   "cell_type": "code",
   "execution_count": 38,
   "metadata": {},
   "outputs": [
    {
     "name": "stdout",
     "output_type": "stream",
     "text": [
      "Number of houses: 803\n",
      "-----------Price Data----------\n",
      "           0\n",
      "0     688300\n",
      "1     323100\n",
      "2    3000000\n",
      "3     591200\n",
      "4     494000\n",
      "..       ...\n",
      "731   724800\n",
      "732   407400\n",
      "733   543200\n",
      "734   915000\n",
      "735  1500000\n",
      "\n",
      "[736 rows x 1 columns]\n"
     ]
    }
   ],
   "source": [
    "import json\n",
    "import pandas as pd\n",
    "import numpy as np\n",
    "import matplotlib.pyplot as plt\n",
    "\n",
    "\n",
    "df = pd.read_csv(\"data_finbar.csv\")\n",
    "\n",
    "rows = len(df.index)\n",
    "\n",
    "# divide by 13 because each house has 13 rows of data\n",
    "numHouses = rows // 13\n",
    "\n",
    "print(\"Number of houses: \" + str(numHouses))\n",
    "\n",
    "print(\"-----------Price Data----------\")\n",
    "\n",
    "# get all rows from 2022\n",
    "year2022 = df.loc[df['Year'] == 2022]\n",
    "\n",
    "octPrices = year2022['Oct']\n",
    "\n",
    "octPrices.dropna()\n",
    "\n",
    "# since prices have 'K' and 'M' we need to convert to numbers\n",
    "# https://stackoverflow.com/questions/59507827/converting-a-string-object-value-with-m-and-k-to-million-and-thousand\n",
    "\n",
    "def text_to_num(text, bad_data_val = 0):\n",
    "    d = {\n",
    "        'K': 1000,\n",
    "        'M': 1000000,\n",
    "        'B': 1000000000\n",
    "    }\n",
    "    if not isinstance(text, str):\n",
    "        # Non-strings are bad are missing data in poster's submission\n",
    "        return bad_data_val\n",
    "\n",
    "    elif text[-1] in d:\n",
    "        # separate out the K, M, or B\n",
    "        num, magnitude = text[:-1], text[-1]\n",
    "        return int(float(num) * d[magnitude])\n",
    "    else:\n",
    "        return float(text)\n",
    "\n",
    "lst = octPrices.tolist()\n",
    "# remove nans\n",
    "cleaned_lst = [x for x in lst if str(x) != 'nan']\n",
    "\n",
    "clean_prices = []\n",
    "for i, price in enumerate(cleaned_lst):\n",
    "    # remove dollar sign\n",
    "    #print(str(i) + ':' + price)\n",
    "    price = price[1:]\n",
    "    result = text_to_num(price)\n",
    "    clean_prices.append(result)\n",
    "\n",
    "dataframe = pd.DataFrame(clean_prices)\n",
    "\n",
    "print(dataframe)\n",
    "\n",
    "\n",
    "\n",
    "\n",
    "\n",
    "\n",
    "\n",
    "\n",
    "\n"
   ]
  }
 ],
 "metadata": {
  "kernelspec": {
   "display_name": "Python 3.9.13 64-bit (microsoft store)",
   "language": "python",
   "name": "python3"
  },
  "language_info": {
   "codemirror_mode": {
    "name": "ipython",
    "version": 3
   },
   "file_extension": ".py",
   "mimetype": "text/x-python",
   "name": "python",
   "nbconvert_exporter": "python",
   "pygments_lexer": "ipython3",
   "version": "3.9.13"
  },
  "orig_nbformat": 4,
  "vscode": {
   "interpreter": {
    "hash": "8a1dea1a4f99928645fee944a45bd273bafc27a643f2ba8161590a712bdf38cc"
   }
  }
 },
 "nbformat": 4,
 "nbformat_minor": 2
}
