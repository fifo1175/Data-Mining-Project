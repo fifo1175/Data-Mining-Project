{
 "cells": [
  {
   "cell_type": "code",
   "execution_count": 2,
   "metadata": {
    "collapsed": true
   },
   "outputs": [],
   "source": [
    "import numpy as np\n",
    "import pandas as pd\n",
    "import pprint\n",
    "import os.path\n",
    "\n",
    "crime = pd.read_csv('Denver_crime _CLEANED.csv',encoding=\"ISO-8859-1\")\n",
    "housing = pd.read_csv('new_data.csv')\n",
    "del housing[housing.columns[0]]\n",
    "neighborhoods_crime = set(crime['NEIGHBORHOOD_ID'])\n",
    "neighborhoods_crime = list(neighborhoods_crime)\n",
    "# print(len(neighborhoods_crime))\n",
    "\n",
    "neighborhoods_housing = set(housing['Neighborhood'])\n",
    "neighborhoods_housing = list(neighborhoods_housing)\n",
    "\n",
    "for i in range(len(neighborhoods_housing)):\n",
    "    tmp = neighborhoods_housing[i]\n",
    "    tmp = tmp.lower()\n",
    "    tmp = tmp.replace(\" \",\"-\")\n",
    "    neighborhoods_housing[i] = tmp\n",
    "\n",
    "# print(len(neighborhoods_housing))\n",
    "\n",
    "same = []\n",
    "\n",
    "for neigh in neighborhoods_housing:\n",
    "    if neigh in neighborhoods_crime:\n",
    "        same.append(neigh)\n"
   ]
  },
  {
   "cell_type": "code",
   "execution_count": 3,
   "outputs": [],
   "source": [
    "from csv import writer\n",
    "same_house = ['Skyland', 'West Colfax', 'University Hills', 'Washington Virginia Vale', 'Country Club', 'Rosedale', 'Clayton', 'Valverde', 'Congress Park', 'Mar Lee', 'Globeville', 'Sloan Lake', 'Overland', 'Indian Creek', 'Barnum', 'Fort Logan', 'Lowry Field', 'Montbello', 'Barnum West', 'Washington Park', 'Hale', 'Hampden South', 'Platt Park', 'Hampden', 'City Park', 'University Park', 'Virginia Village', 'Cherry Creek', 'Cole', 'Villa Park', 'Bear Valley', 'Capitol Hill', 'Lincoln Park', 'Montclair', 'Marston', 'East Colfax', 'South Park Hill', 'Speer', 'Harvey Park South', 'Harvey Park', 'Baker', 'City Park West', 'North Capitol Hill', 'Sunnyside', 'Wellshire', 'Hilltop', 'Regis', 'Auraria', 'Whittier', 'North Park Hill', 'Goldsmith', 'Berkeley', 'Highland', 'Ruby Hill', 'West Highland', 'Union Station', 'Civic Center', 'Westwood', 'Jefferson Park', 'Northeast Park Hill', 'Belcaro', 'Central Park', 'Windsor', 'Cheesman Park', 'Athmar Park', 'Southmoor Park', 'Chaffee Park', 'University', 'Five Points', 'Elyria Swansea', 'Washington Park West']\n",
    "\n",
    "months = ['Jan','Feb', 'Mar','Apr', 'May', 'Jun', 'Jul','Aug', 'Sep', 'Oct', 'Nov', 'Dec']\n",
    "years = [2017, 2018,2019,2020,2021,2022]\n",
    "avgs = {}\n",
    "headers = ['Neighborhood', 'Year', 'Jan','Feb', 'Mar','Apr', 'May', 'Jun', 'Jul','Aug', 'Sep', 'Oct', 'Nov', 'Dec']\n",
    "\n",
    "for neigh in same_house:\n",
    "    tmp_df = housing[housing['Neighborhood'] == neigh]\n",
    "    tmp_year_dict = {}\n",
    "    for year in years:\n",
    "        tmp_year_df = tmp_df[tmp_df['Year'] == year]\n",
    "        tmp_month_dict = {}\n",
    "        for month in months:\n",
    "            month_data = tmp_year_df[month]\n",
    "            avg_month = int(np.average(month_data))\n",
    "            tmp_month_dict[month] = avg_month\n",
    "        tmp_year_dict[str(year)] = tmp_month_dict\n",
    "    avgs[neigh] = tmp_year_dict"
   ],
   "metadata": {
    "collapsed": false
   }
  },
  {
   "cell_type": "code",
   "execution_count": 4,
   "outputs": [
    {
     "name": "stdout",
     "output_type": "stream",
     "text": [
      "File exist, not running\n"
     ]
    }
   ],
   "source": [
    "months = ['Jan','Feb', 'Mar','Apr', 'May', 'Jun', 'Jul','Aug', 'Sep', 'Oct', 'Nov', 'Dec']\n",
    "years = [2017, 2018,2019,2020,2021,2022]\n",
    "headers = ['Neighborhood', 'Year', 'Jan','Feb', 'Mar','Apr', 'May', 'Jun', 'Jul','Aug', 'Sep', 'Oct', 'Nov', 'Dec']\n",
    "\n",
    "if os.path.exists('house_avgs.csv'):\n",
    "    print(\"File exist, not running\")\n",
    "    exit\n",
    "\n",
    "with open('house_avgs.csv', 'a') as f_object:\n",
    "        writer_object = writer(f_object)\n",
    "        writer_object.writerow(headers)\n",
    "        f_object.close()\n",
    "\n",
    "for neigh, year in avgs.items():\n",
    "    for yr, month in year.items():\n",
    "        neigh = neigh.lower()\n",
    "        neigh = neigh.replace(\" \", \"-\")\n",
    "        List = [neigh,yr]\n",
    "        for mon, val in month.items():\n",
    "            List.append(val)\n",
    "        with open('house_avgs.csv', 'a') as f_object:\n",
    "            writer_object = writer(f_object)\n",
    "            writer_object.writerow(List)\n",
    "            f_object.close()"
   ],
   "metadata": {
    "collapsed": false
   }
  },
  {
   "cell_type": "markdown",
   "source": [],
   "metadata": {
    "collapsed": false
   }
  },
  {
   "cell_type": "code",
   "execution_count": 5,
   "outputs": [],
   "source": [
    "same_neigh = same\n",
    "\n",
    "reported_dates = list(crime['REPORTED_DATE'])\n",
    "incident_id = list(crime['incident_id'])\n",
    "incident_id = [int(x) for x in incident_id]\n",
    "neighborhoods_crime_all = list(crime['NEIGHBORHOOD_ID'])\n",
    "\n",
    "month_conv = {1:'Jan', 2: 'Feb', 3: 'Mar', 4: 'Apr',\n",
    "              5: 'May', 6: 'Jun', 7: 'Jul', 8: 'Aug',\n",
    "              9: 'Sep', 10: 'Oct', 11: 'Nov', 12: 'Dec'}\n",
    "reported_dates_conv = []\n",
    "reported_years = []\n",
    "for reported_date in reported_dates:\n",
    "    tmp_date = reported_date.split()\n",
    "    tmp_date = tmp_date[0]\n",
    "    tmp_date = tmp_date.split(\"/\")\n",
    "    tmp_month = tmp_date[0]\n",
    "    tmp_year = tmp_date[2]\n",
    "    tmp_month = month_conv[int(tmp_month)]\n",
    "    reported_dates_conv.append(tmp_month)\n",
    "    reported_years.append(tmp_year)\n"
   ],
   "metadata": {
    "collapsed": false
   }
  },
  {
   "cell_type": "code",
   "execution_count": 6,
   "outputs": [],
   "source": [
    "import copy\n",
    "tmp_d = {'Jan': 0, 'Feb': 0, 'Mar': 0, 'Apr': 0,\n",
    "         'May': 0, 'Jun': 0, 'Jul': 0, 'Aug': 0,\n",
    "        'Sep': 0, 'Oct': 0, 'Nov': 0, 'Dec': 0 }\n",
    "\n",
    "tmp_a = {'2017': copy.deepcopy(tmp_d), '2018': copy.deepcopy(tmp_d), '2019': copy.deepcopy(tmp_d),\n",
    "         '2020': copy.deepcopy(tmp_d), '2021': copy.deepcopy(tmp_d), '2022': copy.deepcopy(tmp_d)}\n",
    "\n",
    "crime_dict = dict.fromkeys(neighborhoods_crime, 0)\n",
    "years = ['2017', '2018','2019','2020','2021','2022']\n",
    "\n",
    "for neigh, empty_dict in crime_dict.items():\n",
    "    for yr in years:\n",
    "        crime_dict[neigh] = copy.deepcopy(tmp_a)"
   ],
   "metadata": {
    "collapsed": false
   }
  },
  {
   "cell_type": "code",
   "execution_count": 7,
   "outputs": [],
   "source": [
    "for i in range(len(reported_dates_conv)):\n",
    "    neigh = str(neighborhoods_crime_all[i])\n",
    "    year = str(reported_years[i])\n",
    "    month = str(reported_dates_conv[i])\n",
    "    if neigh == \"nan\":\n",
    "        continue\n",
    "    crime_dict[neigh][year][month] += 1\n",
    "\n",
    "for neighborhood in neighborhoods_crime:\n",
    "    if neighborhood not in same:\n",
    "        del crime_dict[neighborhood]"
   ],
   "metadata": {
    "collapsed": false
   }
  },
  {
   "cell_type": "code",
   "execution_count": 8,
   "outputs": [
    {
     "name": "stdout",
     "output_type": "stream",
     "text": [
      "File exist, not running\n"
     ]
    }
   ],
   "source": [
    "months = ['Jan','Feb', 'Mar','Apr', 'May', 'Jun', 'Jul','Aug', 'Sep', 'Oct', 'Nov', 'Dec']\n",
    "years = [2017, 2018,2019,2020,2021,2022]\n",
    "headers = ['Neighborhood', 'Year', 'Jan','Feb', 'Mar','Apr', 'May', 'Jun', 'Jul','Aug', 'Sep', 'Oct', 'Nov', 'Dec']\n",
    "\n",
    "if os.path.exists('crime_avgs.csv'):\n",
    "    print(\"File exist, not running\")\n",
    "    exit\n",
    "\n",
    "with open('crime_avgs.csv', 'a') as f_object:\n",
    "        writer_object = writer(f_object)\n",
    "        writer_object.writerow(headers)\n",
    "        f_object.close()\n",
    "\n",
    "for neigh, year in crime_dict.items():\n",
    "    List = [neigh]\n",
    "    for yr, month in year.items():\n",
    "        List = [neigh, yr]\n",
    "        for mon, val in month.items():\n",
    "            List.append(val)\n",
    "        with open('crime_avgs.csv', 'a') as f_object:\n",
    "            writer_object = writer(f_object)\n",
    "            writer_object.writerow(List)\n",
    "            f_object.close()\n"
   ],
   "metadata": {
    "collapsed": false
   }
  },
  {
   "cell_type": "code",
   "execution_count": 23,
   "outputs": [
    {
     "name": "stdout",
     "output_type": "stream",
     "text": [
      "['cherry-creek', 2017, 0.081, 0.098, 0.03]\n",
      "['cherry-creek', 2018, -0.038, -0.14, -0.107]\n",
      "['cherry-creek', 2019, 0.353, 0.261, 0.171]\n",
      "['cherry-creek', 2020, 0.287, 0.288, 0.185]\n",
      "['cherry-creek', 2021, -0.217, 0.169, 0.156]\n",
      "['cherry-creek', 2022, 0.245, -0.226, -0.173]\n"
     ]
    },
    {
     "data": {
      "text/plain": "<Figure size 432x288 with 1 Axes>",
      "image/png": "[encoded data removed]"
     },
     "metadata": {
      "needs_background": "light"
     },
     "output_type": "display_data"
    },
    {
     "name": "stdout",
     "output_type": "stream",
     "text": [
      "['city-park-west', 2017, 0.32, 0.182, 0.137]\n",
      "['city-park-west', 2018, 0.671, 0.622, 0.515]\n",
      "['city-park-west', 2019, -0.215, -0.288, -0.185]\n",
      "['city-park-west', 2020, -0.115, 0.028, 0.016]\n",
      "['city-park-west', 2021, 0.436, 0.424, 0.351]\n",
      "['city-park-west', 2022, 0.085, -0.12, -0.047]\n"
     ]
    },
    {
     "data": {
      "text/plain": "<Figure size 432x288 with 1 Axes>",
      "image/png": "[encoded data removed]"
     },
     "metadata": {
      "needs_background": "light"
     },
     "output_type": "display_data"
    },
    {
     "name": "stdout",
     "output_type": "stream",
     "text": [
      "['westwood', 2017, 0.168, -0.133, -0.212]\n",
      "['westwood', 2018, 0.247, 0.112, 0.076]\n",
      "['westwood', 2019, 0.497, 0.706, 0.455]\n",
      "['westwood', 2020, -0.125, 0.028, 0.062]\n",
      "['westwood', 2021, 0.22, 0.144, 0.076]\n",
      "['westwood', 2022, 0.487, 0.542, 0.388]\n"
     ]
    },
    {
     "data": {
      "text/plain": "<Figure size 432x288 with 1 Axes>",
      "image/png": "[encoded data removed]"
     },
     "metadata": {
      "needs_background": "light"
     },
     "output_type": "display_data"
    }
   ],
   "source": [
    "import matplotlib.pyplot as plt\n",
    "import scipy.stats\n",
    "crime_dataframe = pd.read_csv('crime_avgs.csv')\n",
    "housing_dataframe = pd.read_csv('house_avgs.csv')\n",
    "\n",
    "cor = []\n",
    "# n_t = ['cherry-creek', 'washington-park', 'auraria',\n",
    "       #'washington-virginia-vale', 'city-park-west', 'regis',\n",
    "        #'barnum-west', 'goldsmith', 'westwood']\n",
    "\n",
    "n_t = ['cherry-creek','city-park-west', 'westwood']\n",
    "\n",
    "years = [2017, 2018,2019,2020,2021,2022]\n",
    "\n",
    "for n in n_t:\n",
    "    tmp_crime = crime_dataframe[crime_dataframe['Neighborhood'] == n]\n",
    "    tmp_housing = housing_dataframe[housing_dataframe['Neighborhood'] == n]\n",
    "    r = []\n",
    "    s = []\n",
    "    k = []\n",
    "    for year in years:\n",
    "        tmp_crime_year = tmp_crime[tmp_crime[\"Year\"] == str(year)]\n",
    "        tmp_housing_year = tmp_housing[tmp_housing[\"Year\"] == str(year)]\n",
    "        tmp_crime_year = tmp_crime_year.values.tolist()[0][2:]\n",
    "        tmp_housing_year = tmp_housing_year.values.tolist()[0][2:]\n",
    "        tmp_housing_year = [int(x) for x in tmp_housing_year]\n",
    "        tmp_crime_year = [int(x) for x in tmp_crime_year]\n",
    "        pearson = scipy.stats.pearsonr(tmp_crime_year, tmp_housing_year)\n",
    "        spear = scipy.stats.spearmanr(tmp_crime_year, tmp_housing_year)\n",
    "        kendall = scipy.stats.kendalltau(tmp_crime_year, tmp_housing_year)\n",
    "        r.append(pearson[0])\n",
    "        s.append(spear[0])\n",
    "        k.append(kendall[0])\n",
    "        cor.append([n, year, pearson[0],spear[0],kendall[0]])\n",
    "        print([n, year, round(pearson[0],3),round(spear[0],3),round(kendall[0],3)])\n",
    "        plt.plot(year, pearson[0], marker=\"o\", markersize=10,markerfacecolor=\"red\",markeredgecolor=\"red\")\n",
    "        #plt.plot(year, spear[0], marker=\"o\", markersize=5,markerfacecolor=\"blue\",markeredgecolor=\"blue\")\n",
    "        #plt.plot(year, kendall[0], marker=\"o\", markersize=5,markerfacecolor=\"green\",markeredgecolor=\"green\")\n",
    "    #plt.plot(years, r)\n",
    "    #plt.plot(years, s)\n",
    "    #plt.plot(years, k)\n",
    "    plt.title(n)\n",
    "    plt.ylim([-1,1])\n",
    "    plt.legend([\"R coef\"]) #,\"Spear coef\",\"Kendall coef\"])\n",
    "    plt.show()\n"
   ],
   "metadata": {
    "collapsed": false
   }
  },
  {
   "cell_type": "code",
   "execution_count": null,
   "outputs": [],
   "source": [],
   "metadata": {
    "collapsed": false
   }
  },
  {
   "cell_type": "code",
   "execution_count": null,
   "outputs": [],
   "source": [],
   "metadata": {
    "collapsed": false
   }
  }
 ],
 "metadata": {
  "kernelspec": {
   "display_name": "Python 3",
   "language": "python",
   "name": "python3"
  },
  "language_info": {
   "codemirror_mode": {
    "name": "ipython",
    "version": 2
   },
   "file_extension": ".py",
   "mimetype": "text/x-python",
   "name": "python",
   "nbconvert_exporter": "python",
   "pygments_lexer": "ipython2",
   "version": "2.7.6"
  }
 },
 "nbformat": 4,
 "nbformat_minor": 0
}
