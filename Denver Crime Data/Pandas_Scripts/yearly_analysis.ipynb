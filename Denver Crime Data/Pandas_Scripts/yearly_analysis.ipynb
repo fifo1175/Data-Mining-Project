{
 "cells": [
  {
   "cell_type": "code",
   "execution_count": 6,
   "metadata": {},
   "outputs": [
    {
     "name": "stdout",
     "output_type": "stream",
     "text": [
      "Number of crimes in each year:\n",
      "2017:  63497\n",
      "2018:  64049\n",
      "2019:  62941\n",
      "2020:  68340\n",
      "2021:  77568\n",
      "Total number of crimes in Denver from 2017 to 2021:  336395\n",
      "Average number of crimes per year:  67279.0\n",
      "Standard deviation of years:  6134.816826931347\n",
      "Identified outliers: 0\n",
      "Non-outlier observations: 5\n"
     ]
    }
   ],
   "source": [
    "import pandas as pd\n",
    "\n",
    "df1 = pd.read_excel(\"../2017/Denver_Crime_2017.xlsx\")\n",
    "df2 = pd.read_excel(\"../2018/Denver_Crime_2018.xlsx\")\n",
    "df3 = pd.read_excel(\"../2019/Denver_Crime_2019.xlsx\")\n",
    "df4 = pd.read_excel(\"../2020/Denver_Crime_2020.xlsx\")\n",
    "df5 = pd.read_excel(\"../2021/Denver_Crime_2021.xlsx\")\n",
    "total_2017 = len(df1.index)\n",
    "total_2018 = len(df2.index)\n",
    "total_2019 = len(df3.index)\n",
    "total_2020 = len(df4.index)\n",
    "total_2021 = len(df5.index)\n",
    "total = total_2017 + total_2018 + total_2019 + total_2020 + total_2021\n",
    "yearList = [2017, 2018, 2019, 2020, 2021]\n",
    "print(\"Number of crimes in each year:\")\n",
    "print(\"2017: \", total_2017)\n",
    "print(\"2018: \", total_2018)\n",
    "print(\"2019: \", total_2019)\n",
    "print(\"2020: \", total_2020)\n",
    "print(\"2021: \", total_2021)\n",
    "\n",
    "print(\"Total number of crimes in Denver from 2017 to 2021: \", total)\n",
    "\n",
    "yearsDf = pd.DataFrame(yearList, columns = ['Year'])\n",
    "yearsDf['Total Crimes'] = [total_2017, total_2018, total_2019, total_2020, total_2021]\n",
    "yearMean = yearsDf['Total Crimes'].mean()\n",
    "print(\"Average number of crimes per year: \", yearMean)\n",
    "\n",
    "years_standard_deviation = yearsDf['Total Crimes'].std()\n",
    "print(\"Standard deviation of years: \", years_standard_deviation)\n",
    "\n",
    "# cut off point for outliers, 3 standard deviations (99.7% of data) or 2 (95% of data)\n",
    "cut_off = years_standard_deviation * 3\n",
    "lower, upper = yearMean - cut_off, yearMean + cut_off\n",
    "\n",
    "# identify outliers\n",
    "outliers = [x for x in yearsDf['Total Crimes'] if x < lower or x > upper]\n",
    "print('Identified outliers: %d' % len(outliers))\n",
    "# remove outliers\n",
    "outliers_removed = [x for x in yearsDf['Total Crimes'] if x >= lower and x <= upper]\n",
    "print('Non-outlier observations: %d' % len(outliers_removed))\n",
    "\n",
    "\n"
   ]
  },
  {
   "cell_type": "code",
   "execution_count": null,
   "metadata": {},
   "outputs": [],
   "source": [
    "\n"
   ]
  }
 ],
 "metadata": {
  "kernelspec": {
   "display_name": "Python 3.9.13 64-bit (microsoft store)",
   "language": "python",
   "name": "python3"
  },
  "language_info": {
   "codemirror_mode": {
    "name": "ipython",
    "version": 3
   },
   "file_extension": ".py",
   "mimetype": "text/x-python",
   "name": "python",
   "nbconvert_exporter": "python",
   "pygments_lexer": "ipython3",
   "version": "3.9.13"
  },
  "orig_nbformat": 4,
  "vscode": {
   "interpreter": {
    "hash": "8a1dea1a4f99928645fee944a45bd273bafc27a643f2ba8161590a712bdf38cc"
   }
  }
 },
 "nbformat": 4,
 "nbformat_minor": 2
}
