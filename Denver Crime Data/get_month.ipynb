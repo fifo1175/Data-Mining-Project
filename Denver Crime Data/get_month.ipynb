{
 "cells": [
  {
   "cell_type": "code",
   "execution_count": 18,
   "metadata": {},
   "outputs": [],
   "source": [
    "import pandas as pd\n",
    "\n",
    "df = pd.read_excel(\"Denver_Crime_2017.xlsx\")\n",
    "\n",
    "df['FIRST_OCCURRENCE_DATE'] = pd.to_datetime(df['FIRST_OCCURRENCE_DATE'])\n",
    "\n",
    "mask = (df['FIRST_OCCURRENCE_DATE'] >= '2017-12-1') & (df['FIRST_OCCURRENCE_DATE'] <= '2017-12-31')\n",
    "\n",
    "df.loc[mask].to_excel('2017_December.xlsx')\n"
   ]
  }
 ],
 "metadata": {
  "kernelspec": {
   "display_name": "Python 3.9.13 64-bit (microsoft store)",
   "language": "python",
   "name": "python3"
  },
  "language_info": {
   "codemirror_mode": {
    "name": "ipython",
    "version": 3
   },
   "file_extension": ".py",
   "mimetype": "text/x-python",
   "name": "python",
   "nbconvert_exporter": "python",
   "pygments_lexer": "ipython3",
   "version": "3.9.13"
  },
  "orig_nbformat": 4,
  "vscode": {
   "interpreter": {
    "hash": "8a1dea1a4f99928645fee944a45bd273bafc27a643f2ba8161590a712bdf38cc"
   }
  }
 },
 "nbformat": 4,
 "nbformat_minor": 2
}
