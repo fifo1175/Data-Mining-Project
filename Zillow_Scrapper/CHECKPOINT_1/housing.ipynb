{
 "cells": [
  {
   "cell_type": "code",
   "execution_count": 26,
   "metadata": {
    "collapsed": true
   },
   "outputs": [
    {
     "name": "stdout",
     "output_type": "stream",
     "text": [
      "Top: dict_keys(['Cherry Creek', 'Washington Park', 'Auraria'])\n",
      "Mid:dict_keys(['Washington Virginia Vale', 'City Park West', 'Regis'])\n",
      "Bottom: dict_keys(['Barnum West', 'Goldsmith', 'Westwood'])\n"
     ]
    }
   ],
   "source": [
    "import pandas as pd\n",
    "import statistics\n",
    "import operator\n",
    "\n",
    "df = pd.read_csv('new_data.csv')\n",
    "del df[df.columns[0]]\n",
    "neighs = set(df['Neighborhood'])\n",
    "neighs = list(neighs)\n",
    "neigh_data = {}\n",
    "for neigh in neighs:\n",
    "    tmp_df = df[df['Neighborhood'] == neigh]\n",
    "    tmp_neigh = neigh.replace(\" \", \"_\")\n",
    "    tmp_df.to_csv(f'./Neighborhood_Split/{tmp_neigh}.csv')\n",
    "    tmp_price = list(tmp_df['price'])\n",
    "    neigh_mean = round(statistics.mean(tmp_price),2)\n",
    "    neigh_data[neigh] = neigh_mean\n",
    "\n",
    "top = dict(sorted(neigh_data.items(), key=operator.itemgetter(1), reverse=True)[:3])\n",
    "bottom = dict(sorted(neigh_data.items(), key=operator.itemgetter(1), reverse=True)[-3:])\n",
    "length = int(len(neigh_data.items())/2)\n",
    "middle = dict(sorted(neigh_data.items(), key=operator.itemgetter(1), reverse=True)[length - 1:length + 2])\n",
    "\n",
    "print(f'Top: {top.keys()}')\n",
    "print(f'Mid:{middle.keys()}')\n",
    "print(f'Bottom: {bottom.keys()}')\n",
    "\n",
    "top.update(bottom)\n",
    "top.update(middle)"
   ]
  },
  {
   "cell_type": "code",
   "execution_count": 14,
   "metadata": {
    "collapsed": false
   },
   "outputs": [
    {
     "data": {
      "image/png": "[encoded data removed]",
      "text/plain": [
       "<Figure size 432x288 with 1 Axes>"
      ]
     },
     "metadata": {
      "needs_background": "light"
     },
     "output_type": "display_data"
    }
   ],
   "source": [
    "import matplotlib.pyplot as plt\n",
    "\n",
    "neigh = list(top.keys())\n",
    "means = list(top.values())\n",
    "\n",
    "plt.bar(range(len(top)), means, tick_label=neigh)\n",
    "plt.xticks(rotation = 90)\n",
    "plt.show()"
   ]
  },
  {
   "cell_type": "code",
   "execution_count": 19,
   "metadata": {
    "collapsed": false
   },
   "outputs": [
    {
     "name": "stdout",
     "output_type": "stream",
     "text": [
      "STD:  1182463.199896799\n",
      "Mean:  1000607.2965986395\n",
      "Min:  77500.0\n",
      "Max:  15000000.0\n"
     ]
    }
   ],
   "source": [
    "std_dev = df['price'].std()\n",
    "mean_val = df['price'].mean()\n",
    "min_val = df['price'].min()\n",
    "max_val = df['price'].max()\n",
    "\n",
    "print(\"STD: \", std_dev)\n",
    "print(\"Mean: \", mean_val)\n",
    "print(\"Min: \", min_val)\n",
    "print(\"Max: \", max_val)\n"
   ]
  },
  {
   "cell_type": "code",
   "execution_count": 21,
   "metadata": {
    "collapsed": false
   },
   "outputs": [
    {
     "name": "stdout",
     "output_type": "stream",
     "text": [
      "count    7.350000e+03\n",
      "mean     1.000607e+06\n",
      "std      1.182463e+06\n",
      "min      7.750000e+04\n",
      "25%      4.699000e+05\n",
      "50%      6.250000e+05\n",
      "75%      9.750000e+05\n",
      "max      1.500000e+07\n",
      "Name: price, dtype: float64\n"
     ]
    }
   ],
   "source": [
    "print(df['price'].describe())"
   ]
  },
  {
   "cell_type": "code",
   "execution_count": 30,
   "metadata": {
    "collapsed": false
   },
   "outputs": [],
   "source": [
    "years = set(df['Year'])\n",
    "years = list(years)\n",
    "\n",
    "for year in years:\n",
    "    tmp_df = df[df[\"Year\"] == year]\n",
    "    year = str(year)\n",
    "    tmp_df.to_csv(f'./Year_Split/{year[:4]}.csv')\n"
   ]
  },
  {
   "cell_type": "code",
   "execution_count": 31,
   "metadata": {
    "collapsed": false
   },
   "outputs": [
    {
     "name": "stdout",
     "output_type": "stream",
     "text": [
      "-1364319.1\n",
      "3365533.7\n"
     ]
    }
   ],
   "source": [
    "std_dev = std_dev * 2\n",
    "min_std_dev = round(mean_val - std_dev,2)\n",
    "max_std_dev = round(mean_val + std_dev,2)\n",
    "print(min_std_dev)\n",
    "print(max_std_dev)"
   ]
  },
  {
   "cell_type": "code",
   "execution_count": null,
   "metadata": {
    "collapsed": false
   },
   "outputs": [],
   "source": []
  }
 ],
 "metadata": {
  "kernelspec": {
   "display_name": "Python 3.9.0 64-bit",
   "language": "python",
   "name": "python3"
  },
  "language_info": {
   "codemirror_mode": {
    "name": "ipython",
    "version": 2
   },
   "file_extension": ".py",
   "mimetype": "text/x-python",
   "name": "python",
   "nbconvert_exporter": "python",
   "pygments_lexer": "ipython2",
   "version": "3.9.0"
  },
  "vscode": {
   "interpreter": {
    "hash": "ebf15e0fad3f155601f29bdad45e9f934cfb9dca2220b352459c8fe1c89e782c"
   }
  }
 },
 "nbformat": 4,
 "nbformat_minor": 0
}
